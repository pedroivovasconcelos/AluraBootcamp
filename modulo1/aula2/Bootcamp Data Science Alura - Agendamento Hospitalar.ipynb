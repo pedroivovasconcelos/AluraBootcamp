{
  "cells": [
    {
      "cell_type": "markdown",
      "metadata": {
        "id": "wy_ncUgeYjfh"
      },
      "source": [
        "Caderno de exploracao dos dados do datasus 2008 pra frente"
      ]
    },
    {
      "cell_type": "code",
      "execution_count": 67,
      "metadata": {
        "id": "87K9ISVVY1bn"
      },
      "outputs": [],
      "source": [
        "import pandas as pd"
      ]
    },
    {
      "cell_type": "code",
      "execution_count": 68,
      "metadata": {
        "colab": {
          "base_uri": "https://localhost:8080/",
          "height": 373
        },
        "id": "aUnyypSZZNII",
        "outputId": "1bb8188c-57ed-421c-d60b-d3110218645d"
      },
      "outputs": [
        {
          "data": {
            "text/html": [
              "<div>\n",
              "<style scoped>\n",
              "    .dataframe tbody tr th:only-of-type {\n",
              "        vertical-align: middle;\n",
              "    }\n",
              "\n",
              "    .dataframe tbody tr th {\n",
              "        vertical-align: top;\n",
              "    }\n",
              "\n",
              "    .dataframe thead th {\n",
              "        text-align: right;\n",
              "    }\n",
              "</style>\n",
              "<table border=\"1\" class=\"dataframe\">\n",
              "  <thead>\n",
              "    <tr style=\"text-align: right;\">\n",
              "      <th></th>\n",
              "      <th>Unidade da Federação</th>\n",
              "      <th>2008/Jan</th>\n",
              "      <th>2008/Fev</th>\n",
              "      <th>2008/Mar</th>\n",
              "      <th>2008/Abr</th>\n",
              "      <th>2008/Mai</th>\n",
              "      <th>2008/Jun</th>\n",
              "      <th>2008/Jul</th>\n",
              "      <th>2008/Ago</th>\n",
              "      <th>2008/Set</th>\n",
              "      <th>...</th>\n",
              "      <th>2019/Dez</th>\n",
              "      <th>2020/Jan</th>\n",
              "      <th>2020/Fev</th>\n",
              "      <th>2020/Mar</th>\n",
              "      <th>2020/Abr</th>\n",
              "      <th>2020/Mai</th>\n",
              "      <th>2020/Jun</th>\n",
              "      <th>2020/Jul</th>\n",
              "      <th>2020/Ago</th>\n",
              "      <th>Total</th>\n",
              "    </tr>\n",
              "  </thead>\n",
              "  <tbody>\n",
              "    <tr>\n",
              "      <th>0</th>\n",
              "      <td>11 Rondônia</td>\n",
              "      <td>1388528.39</td>\n",
              "      <td>2931283.42</td>\n",
              "      <td>1541682.52</td>\n",
              "      <td>1525314.96</td>\n",
              "      <td>1645953.84</td>\n",
              "      <td>1406150.68</td>\n",
              "      <td>3065279.01</td>\n",
              "      <td>3231494.61</td>\n",
              "      <td>3117178.63</td>\n",
              "      <td>...</td>\n",
              "      <td>8085025.66</td>\n",
              "      <td>9221412.18</td>\n",
              "      <td>7493310.88</td>\n",
              "      <td>8092260.11</td>\n",
              "      <td>7273843.63</td>\n",
              "      <td>7652120.28</td>\n",
              "      <td>8725530.68</td>\n",
              "      <td>11152107.08</td>\n",
              "      <td>10285455.78</td>\n",
              "      <td>929129659.72</td>\n",
              "    </tr>\n",
              "    <tr>\n",
              "      <th>1</th>\n",
              "      <td>12 Acre</td>\n",
              "      <td>902416.00</td>\n",
              "      <td>1497206.26</td>\n",
              "      <td>1794028.48</td>\n",
              "      <td>1730469.42</td>\n",
              "      <td>1819443.92</td>\n",
              "      <td>1828496.00</td>\n",
              "      <td>2511754.59</td>\n",
              "      <td>2089107.14</td>\n",
              "      <td>2275708.53</td>\n",
              "      <td>...</td>\n",
              "      <td>2874871.28</td>\n",
              "      <td>3331803.55</td>\n",
              "      <td>3417691.07</td>\n",
              "      <td>3076003.20</td>\n",
              "      <td>2286642.60</td>\n",
              "      <td>2896340.24</td>\n",
              "      <td>3045245.80</td>\n",
              "      <td>3915193.20</td>\n",
              "      <td>-</td>\n",
              "      <td>420668039.63</td>\n",
              "    </tr>\n",
              "    <tr>\n",
              "      <th>2</th>\n",
              "      <td>13 Amazonas</td>\n",
              "      <td>4735529.42</td>\n",
              "      <td>7118990.57</td>\n",
              "      <td>8196635.49</td>\n",
              "      <td>8259378.42</td>\n",
              "      <td>7831399.90</td>\n",
              "      <td>8477273.62</td>\n",
              "      <td>9368858.72</td>\n",
              "      <td>9352532.70</td>\n",
              "      <td>9363099.35</td>\n",
              "      <td>...</td>\n",
              "      <td>14346553.60</td>\n",
              "      <td>16018459.07</td>\n",
              "      <td>14913745.37</td>\n",
              "      <td>15068304.35</td>\n",
              "      <td>13509579.29</td>\n",
              "      <td>19658585.46</td>\n",
              "      <td>20897542.93</td>\n",
              "      <td>19346450.18</td>\n",
              "      <td>14726443.67</td>\n",
              "      <td>1771654871.23</td>\n",
              "    </tr>\n",
              "    <tr>\n",
              "      <th>3</th>\n",
              "      <td>14 Roraima</td>\n",
              "      <td>657889.53</td>\n",
              "      <td>777939.31</td>\n",
              "      <td>718688.03</td>\n",
              "      <td>839994.39</td>\n",
              "      <td>862347.96</td>\n",
              "      <td>832440.66</td>\n",
              "      <td>996693.09</td>\n",
              "      <td>894271.18</td>\n",
              "      <td>910424.17</td>\n",
              "      <td>...</td>\n",
              "      <td>3097113.21</td>\n",
              "      <td>3059823.80</td>\n",
              "      <td>2912519.98</td>\n",
              "      <td>2937346.43</td>\n",
              "      <td>2868820.96</td>\n",
              "      <td>2752228.26</td>\n",
              "      <td>3401864.29</td>\n",
              "      <td>3015488.30</td>\n",
              "      <td>2826486.18</td>\n",
              "      <td>305010883.18</td>\n",
              "    </tr>\n",
              "    <tr>\n",
              "      <th>4</th>\n",
              "      <td>15 Pará</td>\n",
              "      <td>18864744.11</td>\n",
              "      <td>19553758.20</td>\n",
              "      <td>21937342.70</td>\n",
              "      <td>20842829.69</td>\n",
              "      <td>23249952.88</td>\n",
              "      <td>23240687.56</td>\n",
              "      <td>24002223.56</td>\n",
              "      <td>23341218.03</td>\n",
              "      <td>25172261.32</td>\n",
              "      <td>...</td>\n",
              "      <td>35925899.01</td>\n",
              "      <td>34345207.63</td>\n",
              "      <td>37384336.94</td>\n",
              "      <td>35512568.15</td>\n",
              "      <td>28217249.66</td>\n",
              "      <td>32617541.05</td>\n",
              "      <td>41625331.28</td>\n",
              "      <td>38438873.79</td>\n",
              "      <td>39911193.02</td>\n",
              "      <td>4437115730.71</td>\n",
              "    </tr>\n",
              "  </tbody>\n",
              "</table>\n",
              "<p>5 rows × 154 columns</p>\n",
              "</div>"
            ],
            "text/plain": [
              "  Unidade da Federação    2008/Jan    2008/Fev    2008/Mar    2008/Abr  \\\n",
              "0          11 Rondônia  1388528.39  2931283.42  1541682.52  1525314.96   \n",
              "1              12 Acre   902416.00  1497206.26  1794028.48  1730469.42   \n",
              "2          13 Amazonas  4735529.42  7118990.57  8196635.49  8259378.42   \n",
              "3           14 Roraima   657889.53   777939.31   718688.03   839994.39   \n",
              "4              15 Pará 18864744.11 19553758.20 21937342.70 20842829.69   \n",
              "\n",
              "     2008/Mai    2008/Jun    2008/Jul    2008/Ago    2008/Set  ...  \\\n",
              "0  1645953.84  1406150.68  3065279.01  3231494.61  3117178.63  ...   \n",
              "1  1819443.92  1828496.00  2511754.59  2089107.14  2275708.53  ...   \n",
              "2  7831399.90  8477273.62  9368858.72  9352532.70  9363099.35  ...   \n",
              "3   862347.96   832440.66   996693.09   894271.18   910424.17  ...   \n",
              "4 23249952.88 23240687.56 24002223.56 23341218.03 25172261.32  ...   \n",
              "\n",
              "     2019/Dez    2020/Jan    2020/Fev    2020/Mar    2020/Abr    2020/Mai  \\\n",
              "0  8085025.66  9221412.18  7493310.88  8092260.11  7273843.63  7652120.28   \n",
              "1  2874871.28  3331803.55  3417691.07  3076003.20  2286642.60  2896340.24   \n",
              "2 14346553.60 16018459.07 14913745.37 15068304.35 13509579.29 19658585.46   \n",
              "3  3097113.21  3059823.80  2912519.98  2937346.43  2868820.96  2752228.26   \n",
              "4 35925899.01 34345207.63 37384336.94 35512568.15 28217249.66 32617541.05   \n",
              "\n",
              "     2020/Jun    2020/Jul     2020/Ago         Total  \n",
              "0  8725530.68 11152107.08  10285455.78  929129659.72  \n",
              "1  3045245.80  3915193.20            -  420668039.63  \n",
              "2 20897542.93 19346450.18  14726443.67 1771654871.23  \n",
              "3  3401864.29  3015488.30   2826486.18  305010883.18  \n",
              "4 41625331.28 38438873.79  39911193.02 4437115730.71  \n",
              "\n",
              "[5 rows x 154 columns]"
            ]
          },
          "execution_count": 68,
          "metadata": {},
          "output_type": "execute_result"
        }
      ],
      "source": [
        "dados = pd.read_csv(r'C:\\Users\\pi_me\\Documents\\GitHub\\AluraBootcamp\\modulo1\\agendamento-hospitalar\\dados\\A151346189_28_143_208.csv', encoding=\"ISO-8859-1\", \n",
        "                    skiprows = 3, sep=\";\", skipfooter=12,\n",
        "                    thousands=\".\", decimal=\",\", engine='python')\n",
        "dados.head()"
      ]
    },
    {
      "cell_type": "code",
      "execution_count": 69,
      "metadata": {
        "colab": {
          "base_uri": "https://localhost:8080/",
          "height": 390
        },
        "id": "W76fpjKRZW2J",
        "outputId": "da666033-f558-4ea4-fbc8-593edf763c18"
      },
      "outputs": [
        {
          "data": {
            "text/html": [
              "<div>\n",
              "<style scoped>\n",
              "    .dataframe tbody tr th:only-of-type {\n",
              "        vertical-align: middle;\n",
              "    }\n",
              "\n",
              "    .dataframe tbody tr th {\n",
              "        vertical-align: top;\n",
              "    }\n",
              "\n",
              "    .dataframe thead th {\n",
              "        text-align: right;\n",
              "    }\n",
              "</style>\n",
              "<table border=\"1\" class=\"dataframe\">\n",
              "  <thead>\n",
              "    <tr style=\"text-align: right;\">\n",
              "      <th></th>\n",
              "      <th>Unidade da Federação</th>\n",
              "      <th>2008/Jan</th>\n",
              "      <th>2008/Fev</th>\n",
              "      <th>2008/Mar</th>\n",
              "      <th>2008/Abr</th>\n",
              "      <th>2008/Mai</th>\n",
              "      <th>2008/Jun</th>\n",
              "      <th>2008/Jul</th>\n",
              "      <th>2008/Ago</th>\n",
              "      <th>2008/Set</th>\n",
              "      <th>...</th>\n",
              "      <th>2019/Dez</th>\n",
              "      <th>2020/Jan</th>\n",
              "      <th>2020/Fev</th>\n",
              "      <th>2020/Mar</th>\n",
              "      <th>2020/Abr</th>\n",
              "      <th>2020/Mai</th>\n",
              "      <th>2020/Jun</th>\n",
              "      <th>2020/Jul</th>\n",
              "      <th>2020/Ago</th>\n",
              "      <th>Total</th>\n",
              "    </tr>\n",
              "  </thead>\n",
              "  <tbody>\n",
              "    <tr>\n",
              "      <th>22</th>\n",
              "      <td>43 Rio Grande do Sul</td>\n",
              "      <td>30931325.46</td>\n",
              "      <td>57363420.01</td>\n",
              "      <td>51547794.07</td>\n",
              "      <td>56673338.49</td>\n",
              "      <td>48397733.07</td>\n",
              "      <td>52413429.62</td>\n",
              "      <td>56636376.98</td>\n",
              "      <td>56113054.70</td>\n",
              "      <td>55356224.30</td>\n",
              "      <td>...</td>\n",
              "      <td>90775418.13</td>\n",
              "      <td>94908336.74</td>\n",
              "      <td>91437940.91</td>\n",
              "      <td>102876132.83</td>\n",
              "      <td>83000318.02</td>\n",
              "      <td>82381774.95</td>\n",
              "      <td>86051002.13</td>\n",
              "      <td>100531035.83</td>\n",
              "      <td>101374341.51</td>\n",
              "      <td>11958647088.33</td>\n",
              "    </tr>\n",
              "    <tr>\n",
              "      <th>23</th>\n",
              "      <td>50 Mato Grosso do Sul</td>\n",
              "      <td>5377392.11</td>\n",
              "      <td>7002472.61</td>\n",
              "      <td>8423933.19</td>\n",
              "      <td>8797487.68</td>\n",
              "      <td>9770421.80</td>\n",
              "      <td>10905392.18</td>\n",
              "      <td>10249299.82</td>\n",
              "      <td>9671553.45</td>\n",
              "      <td>10218511.05</td>\n",
              "      <td>...</td>\n",
              "      <td>17895244.76</td>\n",
              "      <td>18115134.64</td>\n",
              "      <td>19542439.88</td>\n",
              "      <td>19032785.73</td>\n",
              "      <td>17410262.53</td>\n",
              "      <td>17913161.92</td>\n",
              "      <td>17331445.92</td>\n",
              "      <td>18755557.92</td>\n",
              "      <td>19241624.02</td>\n",
              "      <td>2172157981.36</td>\n",
              "    </tr>\n",
              "    <tr>\n",
              "      <th>24</th>\n",
              "      <td>51 Mato Grosso</td>\n",
              "      <td>4795299.01</td>\n",
              "      <td>8684882.23</td>\n",
              "      <td>7886243.14</td>\n",
              "      <td>8794109.79</td>\n",
              "      <td>9231645.40</td>\n",
              "      <td>10221763.77</td>\n",
              "      <td>9163314.28</td>\n",
              "      <td>9243148.81</td>\n",
              "      <td>9052354.89</td>\n",
              "      <td>...</td>\n",
              "      <td>15029205.51</td>\n",
              "      <td>15249241.20</td>\n",
              "      <td>15046851.63</td>\n",
              "      <td>14886817.29</td>\n",
              "      <td>12546999.04</td>\n",
              "      <td>13604225.34</td>\n",
              "      <td>13151005.63</td>\n",
              "      <td>16371639.49</td>\n",
              "      <td>17790649.87</td>\n",
              "      <td>2036923784.59</td>\n",
              "    </tr>\n",
              "    <tr>\n",
              "      <th>25</th>\n",
              "      <td>52 Goiás</td>\n",
              "      <td>15310637.29</td>\n",
              "      <td>22258668.68</td>\n",
              "      <td>21442515.75</td>\n",
              "      <td>20921212.45</td>\n",
              "      <td>21615970.67</td>\n",
              "      <td>18270043.87</td>\n",
              "      <td>20540517.13</td>\n",
              "      <td>20650730.67</td>\n",
              "      <td>20868443.56</td>\n",
              "      <td>...</td>\n",
              "      <td>34873099.14</td>\n",
              "      <td>35775375.69</td>\n",
              "      <td>35005746.36</td>\n",
              "      <td>34793993.14</td>\n",
              "      <td>30896577.34</td>\n",
              "      <td>34305180.56</td>\n",
              "      <td>35701473.15</td>\n",
              "      <td>39405050.36</td>\n",
              "      <td>43984702.05</td>\n",
              "      <td>4657350310.70</td>\n",
              "    </tr>\n",
              "    <tr>\n",
              "      <th>26</th>\n",
              "      <td>53 Distrito Federal</td>\n",
              "      <td>4745919.19</td>\n",
              "      <td>7632480.67</td>\n",
              "      <td>9647203.26</td>\n",
              "      <td>11098732.99</td>\n",
              "      <td>12891719.72</td>\n",
              "      <td>12850125.67</td>\n",
              "      <td>12565646.74</td>\n",
              "      <td>13710857.89</td>\n",
              "      <td>13165106.20</td>\n",
              "      <td>...</td>\n",
              "      <td>18769437.77</td>\n",
              "      <td>22341629.09</td>\n",
              "      <td>20643441.06</td>\n",
              "      <td>22947163.99</td>\n",
              "      <td>21536505.16</td>\n",
              "      <td>19058243.91</td>\n",
              "      <td>22704335.27</td>\n",
              "      <td>25269773.34</td>\n",
              "      <td>26526196.39</td>\n",
              "      <td>2429933198.76</td>\n",
              "    </tr>\n",
              "  </tbody>\n",
              "</table>\n",
              "<p>5 rows × 154 columns</p>\n",
              "</div>"
            ],
            "text/plain": [
              "     Unidade da Federação    2008/Jan    2008/Fev    2008/Mar    2008/Abr  \\\n",
              "22   43 Rio Grande do Sul 30931325.46 57363420.01 51547794.07 56673338.49   \n",
              "23  50 Mato Grosso do Sul  5377392.11  7002472.61  8423933.19  8797487.68   \n",
              "24         51 Mato Grosso  4795299.01  8684882.23  7886243.14  8794109.79   \n",
              "25               52 Goiás 15310637.29 22258668.68 21442515.75 20921212.45   \n",
              "26    53 Distrito Federal  4745919.19  7632480.67  9647203.26 11098732.99   \n",
              "\n",
              "      2008/Mai    2008/Jun    2008/Jul    2008/Ago    2008/Set  ...  \\\n",
              "22 48397733.07 52413429.62 56636376.98 56113054.70 55356224.30  ...   \n",
              "23  9770421.80 10905392.18 10249299.82  9671553.45 10218511.05  ...   \n",
              "24  9231645.40 10221763.77  9163314.28  9243148.81  9052354.89  ...   \n",
              "25 21615970.67 18270043.87 20540517.13 20650730.67 20868443.56  ...   \n",
              "26 12891719.72 12850125.67 12565646.74 13710857.89 13165106.20  ...   \n",
              "\n",
              "      2019/Dez    2020/Jan    2020/Fev     2020/Mar    2020/Abr    2020/Mai  \\\n",
              "22 90775418.13 94908336.74 91437940.91 102876132.83 83000318.02 82381774.95   \n",
              "23 17895244.76 18115134.64 19542439.88  19032785.73 17410262.53 17913161.92   \n",
              "24 15029205.51 15249241.20 15046851.63  14886817.29 12546999.04 13604225.34   \n",
              "25 34873099.14 35775375.69 35005746.36  34793993.14 30896577.34 34305180.56   \n",
              "26 18769437.77 22341629.09 20643441.06  22947163.99 21536505.16 19058243.91   \n",
              "\n",
              "      2020/Jun     2020/Jul      2020/Ago          Total  \n",
              "22 86051002.13 100531035.83  101374341.51 11958647088.33  \n",
              "23 17331445.92  18755557.92   19241624.02  2172157981.36  \n",
              "24 13151005.63  16371639.49   17790649.87  2036923784.59  \n",
              "25 35701473.15  39405050.36   43984702.05  4657350310.70  \n",
              "26 22704335.27  25269773.34   26526196.39  2429933198.76  \n",
              "\n",
              "[5 rows x 154 columns]"
            ]
          },
          "execution_count": 69,
          "metadata": {},
          "output_type": "execute_result"
        }
      ],
      "source": [
        "dados.tail()"
      ]
    },
    {
      "cell_type": "code",
      "execution_count": 70,
      "metadata": {
        "colab": {
          "base_uri": "https://localhost:8080/",
          "height": 225
        },
        "id": "9IzpuzIuaSYY",
        "outputId": "4a899663-6a7b-4a79-d6e3-148f68e60523"
      },
      "outputs": [
        {
          "name": "stderr",
          "output_type": "stream",
          "text": [
            "C:\\Users\\pi_me\\AppData\\Local\\Temp/ipykernel_9512/3010149702.py:1: FutureWarning: Dropping of nuisance columns in DataFrame reductions (with 'numeric_only=None') is deprecated; in a future version this will raise TypeError.  Select only valid columns before calling the reduction.\n",
            "  dados.mean()\n"
          ]
        },
        {
          "data": {
            "text/plain": [
              "2008/Jan     15126846.64\n",
              "2008/Fev     22710158.12\n",
              "2008/Mar     24594187.35\n",
              "2008/Abr     25431957.83\n",
              "2008/Mai     26511245.91\n",
              "                ...     \n",
              "2020/Abr     41013660.39\n",
              "2020/Mai     44193633.75\n",
              "2020/Jun     47329994.46\n",
              "2020/Jul     54495511.57\n",
              "Total      5993731798.30\n",
              "Length: 151, dtype: float64"
            ]
          },
          "execution_count": 70,
          "metadata": {},
          "output_type": "execute_result"
        }
      ],
      "source": [
        "dados.mean()"
      ]
    },
    {
      "cell_type": "code",
      "execution_count": 71,
      "metadata": {
        "colab": {
          "base_uri": "https://localhost:8080/",
          "height": 104
        },
        "id": "6z24CxRLad5G",
        "outputId": "9814b66c-ef08-4e57-e60c-6c889016a720"
      },
      "outputs": [
        {
          "name": "stdout",
          "output_type": "stream",
          "text": [
            "<class 'pandas.core.frame.DataFrame'>\n",
            "RangeIndex: 27 entries, 0 to 26\n",
            "Columns: 154 entries, Unidade da Federação to Total\n",
            "dtypes: float64(151), object(3)\n",
            "memory usage: 32.6+ KB\n"
          ]
        }
      ],
      "source": [
        "dados.info()"
      ]
    },
    {
      "cell_type": "code",
      "execution_count": 72,
      "metadata": {
        "id": "eAHqt0m1arVe"
      },
      "outputs": [],
      "source": [
        "pd.options.display.float_format = \"{:.2f}\".format"
      ]
    },
    {
      "cell_type": "code",
      "execution_count": 73,
      "metadata": {
        "colab": {
          "base_uri": "https://localhost:8080/",
          "height": 225
        },
        "id": "ceT00eDNbLOk",
        "outputId": "98dc2143-7584-4c4e-9f51-17f00d592f53"
      },
      "outputs": [
        {
          "name": "stderr",
          "output_type": "stream",
          "text": [
            "C:\\Users\\pi_me\\AppData\\Local\\Temp/ipykernel_9512/3010149702.py:1: FutureWarning: Dropping of nuisance columns in DataFrame reductions (with 'numeric_only=None') is deprecated; in a future version this will raise TypeError.  Select only valid columns before calling the reduction.\n",
            "  dados.mean()\n"
          ]
        },
        {
          "data": {
            "text/plain": [
              "2008/Jan     15126846.64\n",
              "2008/Fev     22710158.12\n",
              "2008/Mar     24594187.35\n",
              "2008/Abr     25431957.83\n",
              "2008/Mai     26511245.91\n",
              "                ...     \n",
              "2020/Abr     41013660.39\n",
              "2020/Mai     44193633.75\n",
              "2020/Jun     47329994.46\n",
              "2020/Jul     54495511.57\n",
              "Total      5993731798.30\n",
              "Length: 151, dtype: float64"
            ]
          },
          "execution_count": 73,
          "metadata": {},
          "output_type": "execute_result"
        }
      ],
      "source": [
        "dados.mean()"
      ]
    },
    {
      "cell_type": "code",
      "execution_count": 74,
      "metadata": {
        "colab": {
          "base_uri": "https://localhost:8080/",
          "height": 503
        },
        "id": "kO_bBab-bMDn",
        "outputId": "f13dcf48-f196-4c62-a61a-ca2842680fdd"
      },
      "outputs": [
        {
          "data": {
            "text/plain": [
              "0      3231494.61\n",
              "1      2089107.14\n",
              "2      9352532.70\n",
              "3       894271.18\n",
              "4     23341218.03\n",
              "5      1475551.38\n",
              "6      5413710.38\n",
              "7     15195312.89\n",
              "8     10549176.40\n",
              "9     27851438.72\n",
              "10    10640817.47\n",
              "11    12872578.37\n",
              "12    35457038.66\n",
              "13     9373432.00\n",
              "14     5238398.50\n",
              "15    46931248.28\n",
              "16    84722528.10\n",
              "17    12588595.77\n",
              "18    50912706.60\n",
              "19   184854516.35\n",
              "20    56982774.90\n",
              "21    31250854.33\n",
              "22    56113054.70\n",
              "23     9671553.45\n",
              "24     9243148.81\n",
              "25    20650730.67\n",
              "26    13710857.89\n",
              "Name: 2008/Ago, dtype: float64"
            ]
          },
          "execution_count": 74,
          "metadata": {},
          "output_type": "execute_result"
        }
      ],
      "source": [
        "dados[\"2008/Ago\"]"
      ]
    },
    {
      "cell_type": "code",
      "execution_count": 75,
      "metadata": {
        "colab": {
          "base_uri": "https://localhost:8080/",
          "height": 35
        },
        "id": "F1EZW87Kc_ot",
        "outputId": "452c52c2-688c-4d0c-e220-4c54ed2da8e1"
      },
      "outputs": [
        {
          "data": {
            "text/plain": [
              "27800320.306666665"
            ]
          },
          "execution_count": 75,
          "metadata": {},
          "output_type": "execute_result"
        }
      ],
      "source": [
        "dados[\"2008/Ago\"].mean()"
      ]
    },
    {
      "cell_type": "code",
      "execution_count": 76,
      "metadata": {
        "colab": {
          "base_uri": "https://localhost:8080/",
          "height": 309
        },
        "id": "oPrpTcF6dKZ2",
        "outputId": "95371729-b132-4028-fc2e-bdfeb68985ab"
      },
      "outputs": [
        {
          "data": {
            "text/plain": [
              "<AxesSubplot:xlabel='Unidade da Federação'>"
            ]
          },
          "execution_count": 76,
          "metadata": {},
          "output_type": "execute_result"
        },
        {
          "data": {
            "image/png": "[encoded data removed]",
            "text/plain": [
              "<Figure size 432x288 with 1 Axes>"
            ]
          },
          "metadata": {
            "needs_background": "light"
          },
          "output_type": "display_data"
        }
      ],
      "source": [
        "dados.plot(x=\"Unidade da Federação\", y=\"2008/Ago\")"
      ]
    },
    {
      "cell_type": "code",
      "execution_count": 77,
      "metadata": {
        "colab": {
          "base_uri": "https://localhost:8080/",
          "height": 525
        },
        "id": "nepmpDhedsW3",
        "outputId": "b5f170eb-c977-4e7d-ba1f-20ded2bc29b0"
      },
      "outputs": [
        {
          "data": {
            "text/plain": [
              "<AxesSubplot:xlabel='Unidade da Federação'>"
            ]
          },
          "execution_count": 77,
          "metadata": {},
          "output_type": "execute_result"
        },
        {
          "data": {
            "image/png": "[encoded data removed]",
            "text/plain": [
              "<Figure size 648x432 with 1 Axes>"
            ]
          },
          "metadata": {
            "needs_background": "light"
          },
          "output_type": "display_data"
        }
      ],
      "source": [
        "dados.plot(x=\"Unidade da Federação\", y=\"2008/Ago\", kind=\"bar\", figsize=(9,6))"
      ]
    },
    {
      "cell_type": "code",
      "execution_count": 78,
      "metadata": {
        "colab": {
          "base_uri": "https://localhost:8080/",
          "height": 512
        },
        "id": "aJ9A3GCteSQg",
        "outputId": "d2745507-74a3-466d-8794-28d4f41d4eba"
      },
      "outputs": [
        {
          "data": {
            "image/png": "[encoded data removed]",
            "text/plain": [
              "<Figure size 648x432 with 1 Axes>"
            ]
          },
          "metadata": {
            "needs_background": "light"
          },
          "output_type": "display_data"
        }
      ],
      "source": [
        "import matplotlib.pyplot as plt\n",
        "import matplotlib.ticker as ticker\n",
        "\n",
        "ax = dados.plot(x=\"Unidade da Federação\", y=\"2008/Ago\", kind=\"bar\", figsize=(9,6))\n",
        "ax.yaxis.set_major_formatter(ticker.StrMethodFormatter(\"{x:,.2f}\"))\n",
        "\n",
        "plt.title(\"Valor por unidade da federação\")\n",
        "plt.show()"
      ]
    },
    {
      "cell_type": "markdown",
      "metadata": {
        "id": "sRGgrTCkgUQG"
      },
      "source": [
        "# Desafio: escolher um título mais descritivo, que passe a  mensagem adequada."
      ]
    },
    {
      "cell_type": "markdown",
      "metadata": {
        "id": "tlQj0zXQglDc"
      },
      "source": [
        "# Desafio: faça a mesma análise pro mês mais recente."
      ]
    },
    {
      "cell_type": "code",
      "execution_count": 136,
      "metadata": {},
      "outputs": [],
      "source": [
        "states = {\n",
        "    'AC': 'Acre',\n",
        "    'AL': 'Alagoas',\n",
        "    'AP': 'Amapá',\n",
        "    'AM': 'Amazonas',\n",
        "    'BA': 'Bahia',\n",
        "    'CE': 'Ceará',\n",
        "    'DF': 'Distrito Federal',\n",
        "    'ES': 'Espírito Santo',\n",
        "    'GO': 'Goiás',\n",
        "    'MA': 'Maranhão',\n",
        "    'MT': 'Mato Grosso',\n",
        "    'MS': 'Mato Grosso do Sul',\n",
        "    'MG': 'Minas Gerais',\n",
        "    'PA': 'Pará',\n",
        "    'PB': 'Paraíba',\n",
        "    'PR': 'Paraná',\n",
        "    'PE': 'Pernambuco',\n",
        "    'PI': 'Piauí',\n",
        "    'RJ': 'Rio de Janeiro',\n",
        "    'RN': 'Rio Grande do Norte',\n",
        "    'RS': 'Rio Grande do Sul',\n",
        "    'RO': 'Rondônia',\n",
        "    'RR': 'Roraima',\n",
        "    'SC': 'Santa Catarina',\n",
        "    'SP': 'São Paulo',\n",
        "    'SE': 'Sergipe',\n",
        "    'TO': 'Tocantins'\n",
        "}\n",
        "states = {value : key for (key, value) in states.items()}"
      ]
    },
    {
      "cell_type": "code",
      "execution_count": 160,
      "metadata": {
        "id": "yj-Apzvje74A"
      },
      "outputs": [
        {
          "data": {
            "image/png": "[encoded data removed]",
            "text/plain": [
              "<Figure size 720x504 with 1 Axes>"
            ]
          },
          "metadata": {
            "needs_background": "light"
          },
          "output_type": "display_data"
        }
      ],
      "source": [
        "month = '2020/Jul'\n",
        "data = dados[[\"Unidade da Federação\",month]].copy() #Copy only last month\n",
        "data['Unidade da Federação'] = data['Unidade da Federação'].str.split(' ', n=1).str[1]\n",
        "data = data.replace({'Unidade da Federação': states})\n",
        "data.dropna(inplace=True)\n",
        "data[month] = pd.to_numeric(data[month],errors='coerce')\n",
        "data[month] = data[month].div(1000000).round(2)\n",
        "data.sort_values(by=month, ascending=True,inplace=True)\n",
        "\n",
        "ax = data.plot(x=\"Unidade da Federação\", y=month, kind=\"bar\", figsize=(10,7))\n",
        "ax.yaxis.set_major_formatter(ticker.StrMethodFormatter(\"R$ {x:.0f}kk\"))\n",
        "\n",
        "plt.grid(linestyle='--', linewidth=0.5, axis='y')\n",
        "plt.xticks(rotation=0)\n",
        "plt.ylabel('Custo em milhões de reais', fontsize='15')\n",
        "plt.xlabel('Estados da UF', fontsize='15')\n",
        "plt.title(\"Gastos nos hospitais por UF\", fontsize='20')\n",
        "plt.show()"
      ]
    },
    {
      "cell_type": "code",
      "execution_count": 97,
      "metadata": {},
      "outputs": [
        {
          "data": {
            "text/plain": [
              "0     11.15\n",
              "1      3.92\n",
              "2     19.35\n",
              "3      3.02\n",
              "4     38.44\n",
              "5      3.25\n",
              "6      9.13\n",
              "7     32.94\n",
              "8     17.87\n",
              "9     55.18\n",
              "10    26.30\n",
              "11    26.90\n",
              "12    74.19\n",
              "13    18.35\n",
              "14    10.31\n",
              "15    83.99\n",
              "16   164.89\n",
              "17    33.29\n",
              "18    98.72\n",
              "19   366.72\n",
              "20   109.66\n",
              "21    63.47\n",
              "22   100.53\n",
              "23    18.76\n",
              "24    16.37\n",
              "25    39.41\n",
              "26    25.27\n",
              "Name: 2020/Jul, dtype: float64"
            ]
          },
          "execution_count": 97,
          "metadata": {},
          "output_type": "execute_result"
        }
      ],
      "source": [
        "data = dados['2020/Jul']\n",
        "data = data.div(1000000).round(2)\n",
        "data"
      ]
    }
  ],
  "metadata": {
    "colab": {
      "collapsed_sections": [],
      "name": "Bootcamp Datascience",
      "provenance": []
    },
    "kernelspec": {
      "display_name": "Python 3",
      "name": "python3"
    },
    "language_info": {
      "codemirror_mode": {
        "name": "ipython",
        "version": 3
      },
      "file_extension": ".py",
      "mimetype": "text/x-python",
      "name": "python",
      "nbconvert_exporter": "python",
      "pygments_lexer": "ipython3",
      "version": "3.8.10"
    }
  },
  "nbformat": 4,
  "nbformat_minor": 0
}
